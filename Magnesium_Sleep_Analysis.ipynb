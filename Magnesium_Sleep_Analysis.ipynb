
import pandas as pd
import numpy as np
import matplotlib.pyplot as plt
import seaborn as sns
from scipy.stats import pearsonr

# Veriyi olusturalim (50 gunluk)
np.random.seed(42)
magnesium = np.random.randint(220, 330, 50)
sleep_hours = 5.5 + (magnesium - 220) * 0.01 + np.random.normal(0, 0.3, 50)

# DataFrame
data = {
    "Day": np.arange(1, 51),
    "Magnesium_mg": magnesium,
    "Sleep_Hours": sleep_hours
}

df = pd.DataFrame(data)

# Veriye genel bakis
print("DataFrame Head:")
print(df.head())

print("\nDataFrame Info:")
print(df.info())

print("\nDataFrame Describe:")
print(df.describe())

# Eksik veri kontrolu
print("\nEksik veri var mi?")
print(df.isnull().sum())

# Scatter plot ile iliskiyi gorme
plt.figure(figsize=(8,6))
sns.scatterplot(x='Magnesium_mg', y='Sleep_Hours', data=df)
plt.title('Daily Magnesium Intake vs Sleep Duration')
plt.xlabel('Magnesium Intake (mg)')
plt.ylabel('Sleep Duration (hours)')
plt.grid(True)
plt.show()

# Korelasyon analizi
corr, p_value = pearsonr(df['Magnesium_mg'], df['Sleep_Hours'])

print(f"\nPearson Korelasyon Katsayisi: {corr:.2f}")
print(f"p-degeri: {p_value:.4f}")

# Sonuclari yorumlama
if p_value < 0.05:
    print("\nSonuc: Magnezyum alimi ile uyku suresi arasinda anlamli bir pozitif iliski bulunmaktadir.")
else:
    print("\nSonuc: Magnezyum alimi ile uyku suresi arasinda anlamli bir iliski bulunamamistir.")

# Limitations ve Future Work
print("""
Limitations:
- Veri sadece 50 gunluk gozlemden olusuyor, bu nedenle genelleme yaparken dikkatli olunmalidir.
- Uyku kalitesi degil sadece uyku suresi olculdu.
- Dis etkenler (stres, diger beslenme aliskanliklari) hesaba katilmadi.

Future Work:
- Daha uzun sureli ve daha buyuk bir veri seti toplamak.
- Uyku kalitesi gibi ek degiskenler dahil etmek.
- Regresyon analizi ve diger ML yontemleri ile model gelistirme.
""")
