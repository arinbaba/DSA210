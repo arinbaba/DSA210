{
 "cells": [
  {
   "cell_type": "markdown",
   "id": "e9ae8d0d",
   "metadata": {},
   "source": [
    "# DSA210 Project: Magnesium, Sleep, and Performance Analysis\n",
    "This notebook performs EDA, hypothesis testing, and machine learning analysis on a synthetic dataset to explore relationships between magnesium intake, sleep, and performance metrics."
   ]
  },
  {
   "cell_type": "code",
   "execution_count": null,
   "id": "4129411b",
   "metadata": {},
   "outputs": [],
   "source": [
    "# Bu hücre, belirli bir analiz adımını gerçekleştirmektedir\n",
    "import pandas as pd\n",
    "import numpy as np\n",
    "import matplotlib.pyplot as plt\n",
    "import seaborn as sns\n",
    "from scipy.stats import pearsonr\n",
    "from sklearn.linear_model import LinearRegression\n",
    "from sklearn.ensemble import RandomForestRegressor\n",
    "from sklearn.svm import SVR\n",
    "from sklearn.metrics import mean_squared_error, r2_score\n",
    "from sklearn.model_selection import train_test_split\n",
    "import warnings\n",
    "warnings.filterwarnings(\"ignore\")"
   ]
  },
  {
   "cell_type": "code",
   "execution_count": null,
   "id": "2f2ca14d",
   "metadata": {},
   "outputs": [],
   "source": [
    "# Bu hücre, belirli bir analiz adımını gerçekleştirmektedir\n",
    "df = pd.read_excel(\"dsa 210 data.xlsx\")\n",
    "df.columns = df.columns.str.strip()\n",
    "df.dropna(inplace=True)\n",
    "df.head()"
   ]
  },
  {
   "cell_type": "code",
   "execution_count": null,
   "id": "97bc523c",
   "metadata": {},
   "outputs": [],
   "source": [
    "# Bu hücre, belirli bir analiz adımını gerçekleştirmektedir\n",
    "plt.figure(figsize=(10, 6))\n",
    "sns.heatmap(df.corr(), annot=True, cmap='coolwarm', fmt=\".2f\")\n",
    "plt.title(\"Correlation Heatmap\")\n",
    "plt.show()"
   ]
  },
  {
   "cell_type": "code",
   "execution_count": null,
   "id": "602bb922",
   "metadata": {},
   "outputs": [],
   "source": [
    "# Bu hücre, belirli bir analiz adımını gerçekleştirmektedir\n",
    "df.hist(bins=15, figsize=(15, 10), edgecolor='black')\n",
    "plt.tight_layout()\n",
    "plt.show()"
   ]
  },
  {
   "cell_type": "code",
   "execution_count": null,
   "id": "d8238791",
   "metadata": {},
   "outputs": [],
   "source": [
    "# Bu hücre, belirli bir analiz adımını gerçekleştirmektedir\n",
    "import math\n",
    "num_features = len(df.columns[1:])\n",
    "rows = math.ceil(num_features / 3)\n",
    "plt.figure(figsize=(18, rows * 4))\n",
    "\n",
    "for i, column in enumerate(df.columns[1:], 1):\n",
    "    plt.subplot(rows, 3, i)\n",
    "    sns.boxplot(y=df[column])\n",
    "    plt.title(f'Boxplot of {column}')\n",
    "\n",
    "plt.tight_layout()\n",
    "plt.show()"
   ]
  },
  {
   "cell_type": "code",
   "execution_count": null,
   "id": "68fa3608",
   "metadata": {},
   "outputs": [],
   "source": [
    "# Bu hücre, belirli bir analiz adımını gerçekleştirmektedir\n",
    "sns.pairplot(df)\n",
    "plt.show()"
   ]
  },
  {
   "cell_type": "code",
   "execution_count": null,
   "id": "0772e273",
   "metadata": {},
   "outputs": [],
   "source": [
    "# Bu hücre, belirli bir analiz adımını gerçekleştirmektedir\n",
    "correlations = {}\n",
    "hypothesis_results = {}\n",
    "for col in df.columns:\n",
    "    if col != \"Magnesium_mg\":\n",
    "        corr, p_val = pearsonr(df[\"Magnesium_mg\"], df[col])\n",
    "        correlations[col] = corr\n",
    "        hypothesis_results[col] = \"Reject H₀\" if p_val < 0.05 else \"Fail to Reject H₀\"\n",
    "\n",
    "pd.DataFrame.from_dict(correlations, orient='index', columns=[\"Correlation\"])"
   ]
  },
  {
   "cell_type": "code",
   "execution_count": null,
   "id": "01d2df8a",
   "metadata": {},
   "outputs": [],
   "source": [
    "# Bu hücre, belirli bir analiz adımını gerçekleştirmektedir\n",
    "features = df.drop(columns=[\"Weight_kg\"])\n",
    "target = df[\"Weight_kg\"]\n",
    "X_train, X_test, y_train, y_test = train_test_split(features, target, test_size=0.2, random_state=42)\n",
    "\n",
    "lr = LinearRegression()\n",
    "lr.fit(X_train, y_train)\n",
    "lr_pred = lr.predict(X_test)\n",
    "\n",
    "rf = RandomForestRegressor(random_state=42)\n",
    "rf.fit(X_train, y_train)\n",
    "rf_pred = rf.predict(X_test)\n",
    "\n",
    "svm = SVR()\n",
    "svm.fit(X_train, y_train)\n",
    "svm_pred = svm.predict(X_test)\n",
    "\n",
    "ml_results = pd.DataFrame({\n",
    "    \"Model\": [\"Linear Regression\", \"Random Forest\", \"Support Vector Machine\"],\n",
    "    \"RMSE\": [\n",
    "        mean_squared_error(y_test, lr_pred, squared=False),\n",
    "        mean_squared_error(y_test, rf_pred, squared=False),\n",
    "        mean_squared_error(y_test, svm_pred, squared=False),\n",
    "    ],\n",
    "    \"R^2 Score\": [\n",
    "        r2_score(y_test, lr_pred),\n",
    "        r2_score(y_test, rf_pred),\n",
    "        r2_score(y_test, svm_pred),\n",
    "    ]\n",
    "})\n",
    "ml_results"
   ]
  }
 ],
 "metadata": {},
 "nbformat": 4,
 "nbformat_minor": 5
}
