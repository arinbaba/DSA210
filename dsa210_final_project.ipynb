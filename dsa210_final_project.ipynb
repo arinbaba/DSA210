{
 "cells": [
  {
   "cell_type": "markdown",
   "id": "8f878485",
   "metadata": {},
   "source": [
    "# DSA210 Final Project Code\n",
    "\n",
    "This notebook contains EDA, hypothesis testing, and regression modeling steps for analyzing fitness and supplement data."
   ]
  },
  {
   "cell_type": "code",
   "execution_count": null,
   "id": "90137873",
   "metadata": {},
   "outputs": [],
   "source": [
    "\n",
    "import pandas as pd\n",
    "import matplotlib.pyplot as plt\n",
    "import seaborn as sns\n",
    "from scipy.stats import pearsonr, ttest_ind\n",
    "from sklearn.linear_model import LinearRegression\n",
    "from sklearn.model_selection import train_test_split\n",
    "from sklearn.metrics import mean_squared_error, r2_score\n",
    "\n",
    "# Load data\n",
    "df = pd.read_excel('/mnt/data/dsa 210 data.xlsx')\n",
    "df.head()\n"
   ]
  },
  {
   "cell_type": "markdown",
   "id": "8fec3ef3",
   "metadata": {},
   "source": [
    "## Exploratory Data Analysis (EDA)"
   ]
  },
  {
   "cell_type": "code",
   "execution_count": null,
   "id": "0945c174",
   "metadata": {},
   "outputs": [],
   "source": [
    "\n",
    "# Summary statistics\n",
    "display(df.describe())\n",
    "\n",
    "# Correlation heatmap\n",
    "plt.figure(figsize=(12, 8))\n",
    "sns.heatmap(df.corr(numeric_only=True), annot=True, cmap='coolwarm')\n",
    "plt.title('Correlation Heatmap')\n",
    "plt.show()\n"
   ]
  },
  {
   "cell_type": "markdown",
   "id": "6fa6a547",
   "metadata": {},
   "source": [
    "## Hypothesis Testing"
   ]
  },
  {
   "cell_type": "code",
   "execution_count": null,
   "id": "30cd8e26",
   "metadata": {},
   "outputs": [],
   "source": [
    "\n",
    "# Hypothesis test: Does Magnesium intake impact Sleep Hours?\n",
    "corr, p_value = pearsonr(df['Magnesium_mg'], df['Sleep_Hours'])\n",
    "print(f\"Correlation: {corr:.3f}, P-Value: {p_value:.3f}\")\n"
   ]
  },
  {
   "cell_type": "markdown",
   "id": "a1f780c6",
   "metadata": {},
   "source": [
    "## Machine Learning - Linear Regression Models"
   ]
  },
  {
   "cell_type": "code",
   "execution_count": null,
   "id": "ffea420f",
   "metadata": {},
   "outputs": [],
   "source": [
    "\n",
    "# Example: Predicting Weight using selected predictors\n",
    "features = ['Protein_g', 'Carbs_g', 'Magnesium_mg', 'Sleep_Hours', 'Bench_kg', 'Squat_kg']\n",
    "X = df[features]\n",
    "y = df['Weight_kg']\n",
    "\n",
    "X_train, X_test, y_train, y_test = train_test_split(X, y, test_size=0.2, random_state=42)\n",
    "\n",
    "model = LinearRegression()\n",
    "model.fit(X_train, y_train)\n",
    "y_pred = model.predict(X_test)\n",
    "\n",
    "print(\"R2 Score:\", r2_score(y_test, y_pred))\n",
    "print(\"RMSE:\", mean_squared_error(y_test, y_pred, squared=False))\n"
   ]
  }
 ],
 "metadata": {},
 "nbformat": 4,
 "nbformat_minor": 5
}
